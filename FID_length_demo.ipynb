{
 "cells": [
  {
   "cell_type": "markdown",
   "metadata": {},
   "source": [
    "# A Demo script showing how to plot FID length for trolley and fixed probes"
   ]
  },
  {
   "cell_type": "markdown",
   "metadata": {},
   "source": [
    "# The normal setup"
   ]
  },
  {
   "cell_type": "code",
   "execution_count": 1,
   "metadata": {},
   "outputs": [
    {
     "name": "stdout",
     "output_type": "stream",
     "text": [
      "1.16.2\n",
      "data dir =  /Users/bono/Desktop/tempdatadir/run1\n",
      "GM2 =  /Users/bono/Desktop/PythonTool/gm2\n",
      "PYTHONPATH =  /usr/local/Cellar/root/6.16.00/lib/root:/Users/bono/Desktop/PythonTool/gm2/lib\n",
      "Welcome to JupyROOT 6.16/00\n"
     ]
    }
   ],
   "source": [
    "import os\n",
    "import sys\n",
    "import numpy as np\n",
    "import pandas as pd\n",
    "print(np.version.version)\n",
    "#Set the directory that contains the ROOT data\n",
    "os.environ['ARTTFSDIR'] = \"/Users/bono/Desktop/tempdatadir/run1\"\n",
    "print(\"data dir = \",os.environ['ARTTFSDIR'])\n",
    "\n",
    "\n",
    "#add the gm2 pyroot tool to the path (within the shell)\n",
    "sys.path.append('/Users/bono/Desktop/PythonTool/gm2/lib')\n",
    "#Bypass using the thisgm2.sh file\n",
    "\n",
    "#Set BASEDIR and GM2\n",
    "base_dir = \"/Users/bono/Desktop/PythonTool/gm2\"\n",
    "\n",
    "os.environ['BASEDIR'] = base_dir\n",
    "os.environ['GM2'] = base_dir\n",
    "print(\"GM2 = \",os.environ['GM2'])\n",
    "\n",
    "#append PYTHONPATH\n",
    "python_path = os.environ['PYTHONPATH'] + \":\" + base_dir + \"/lib\"\n",
    "os.environ['PYTHONPATH'] = python_path\n",
    "print(\"PYTHONPATH = \",os.environ['PYTHONPATH'])\n",
    "\n",
    "#load the library\n",
    "import gm2\n",
    "import matplotlib.pyplot as plt\n",
    "\n",
    "\n",
    "#Import my functions\n",
    "import sys\n",
    "sys.path.append('/Users/bono/Desktop/gm2FieldAnalysis/MyMath')\n",
    "from avg_rules import trap_avg\n",
    "sys.path.append('/Users/bono/Desktop/gm2FieldAnalysis/DataSelection')\n",
    "from treat_data import direct_removal, repeat_averager, spike_removal, phi_selection, degree_of_outlier\n",
    "from treat_data import spike_removalB\n",
    "from my_spike import my_spike_removal, get_derivative\n",
    "sys.path.append('/Users/bono/Desktop/gm2FieldAnalysis/Fitters')\n",
    "from multipoles import joe_multipoles, my_multipoles\n",
    "\n",
    "#specify the data dir\n",
    "data_dir = '/Users/bono/Desktop/gm2FieldAnalysis/RootToText/IO/'"
   ]
  },
  {
   "cell_type": "markdown",
   "metadata": {},
   "source": [
    "# First the trolley\n",
    "## The naive way does not, at first, work for variables in branches that differ from the basic one"
   ]
  },
  {
   "cell_type": "code",
   "execution_count": null,
   "metadata": {},
   "outputs": [],
   "source": []
  },
  {
   "cell_type": "code",
   "execution_count": 20,
   "metadata": {
    "scrolled": true
   },
   "outputs": [
    {
     "name": "stdout",
     "output_type": "stream",
     "text": [
      "Reading event 8780/8781 99.99%                                                                                                       \n",
      "loop done: 100%                                    \n",
      "[0. 0. 0. 0. 0. 0. 0. 0. 0.]\n",
      "[ 1.09591096e+226 -9.95608566e+051 -1.76228595e-008 -2.89169532e+172\n",
      " -4.91148513e+145 -3.27469580e+215  3.79150641e+286 -5.18210863e-133\n",
      "  8.66736273e-203  2.93305539e+122 -4.50847813e+288 -1.76398155e-059\n",
      " -6.62167821e+093 -9.79734482e+221 -1.49722746e-129 -1.09487587e-271\n",
      "  9.21556173e-235]\n",
      "[[ 3.25209972e+009  6.16365793e-241 -1.28927412e-071 ... -1.09864804e+278\n",
      "  -1.03518737e-296 -8.45644541e-254]\n",
      " [ 3.79690681e+264  3.46053426e-211 -6.15477333e-053 ...  2.45466975e-161\n",
      "  -2.26527521e+150 -4.95922593e+225]\n",
      " [ 3.15201432e+060 -1.45695258e+004 -3.40228365e-034 ...  4.68618862e+079\n",
      "   1.50310207e-016  7.34828531e+300]\n",
      " ...\n",
      " [-2.24632805e-135  4.87859430e-228 -2.11918978e+274 ...  3.41501384e+157\n",
      "  -8.34351041e+146 -4.88928769e+296]\n",
      " [-6.19181449e-282 -3.88658096e+174 -3.33963188e-025 ...  9.68217671e-044\n",
      "   1.08404709e+144  4.13830750e-143]\n",
      " [-4.87115473e-193 -7.77525336e-241 -2.26723741e-093 ...  1.61986532e+166\n",
      "   1.31151870e+122  5.30423347e-268]]\n"
     ]
    }
   ],
   "source": [
    "run = 3956\n",
    "tr = gm2.Trolley([run])\n",
    "tr_time, tr_pos, tr_freq = tr.getBasics()\n",
    "print(tr.getMultipole())\n",
    "print(tr.getFidLength())\n",
    "print(tr.getFid()) "
   ]
  },
  {
   "cell_type": "markdown",
   "metadata": {},
   "source": [
    "### You just have to use tr.load() TWICE to get data from the other branches"
   ]
  },
  {
   "cell_type": "code",
   "execution_count": 21,
   "metadata": {},
   "outputs": [
    {
     "name": "stdout",
     "output_type": "stream",
     "text": [
      "(17, 5)\n",
      "[ 1.09591096e+226 -9.95608566e+051 -1.76228595e-008 -2.89169532e+172\n",
      " -4.91148513e+145 -3.27469580e+215  3.79150641e+286 -5.18210863e-133\n",
      "  8.66736273e-203  2.93305539e+122 -4.50847813e+288 -1.76398155e-059\n",
      " -6.62167821e+093 -9.79734482e+221 -1.49722746e-129 -1.09487587e-271\n",
      "  9.21556173e-235]\n",
      "~~~~\n",
      "[0. 0. 0. 0. 0. 0. 0. 0. 0.]\n",
      "~~~~\n",
      "[[ 3.25209972e+009  6.16365793e-241 -1.28927412e-071 ... -1.09864804e+278\n",
      "  -1.03518737e-296 -8.45644541e-254]\n",
      " [ 3.79690681e+264  3.46053426e-211 -6.15477333e-053 ...  2.45466975e-161\n",
      "  -2.26527521e+150 -4.95922593e+225]\n",
      " [ 3.15201432e+060 -1.45695258e+004 -3.40228365e-034 ...  4.68618862e+079\n",
      "   1.50310207e-016  7.34828531e+300]\n",
      " ...\n",
      " [-2.24632805e-135  4.87859430e-228 -2.11918978e+274 ...  3.41501384e+157\n",
      "  -8.34351041e+146 -4.88928769e+296]\n",
      " [-6.19181449e-282 -3.88658096e+174 -3.33963188e-025 ...  9.68217671e-044\n",
      "   1.08404709e+144  4.13830750e-143]\n",
      " [-4.87115473e-193 -7.77525336e-241 -2.26723741e-093 ...  1.61986532e+166\n",
      "   1.31151870e+122  5.30423347e-268]]\n"
     ]
    }
   ],
   "source": [
    "ev = 10\n",
    "tr.load(ev)\n",
    "print( (tr.getFrequency()).shape)\n",
    "print(tr.getFidLength())\n",
    "print(\"~~~~\")\n",
    "print(tr.getMultipole())\n",
    "print(\"~~~~\")\n",
    "print(tr.getFid()) "
   ]
  },
  {
   "cell_type": "code",
   "execution_count": null,
   "metadata": {},
   "outputs": [],
   "source": []
  },
  {
   "cell_type": "code",
   "execution_count": null,
   "metadata": {},
   "outputs": [],
   "source": []
  },
  {
   "cell_type": "markdown",
   "metadata": {},
   "source": []
  },
  {
   "cell_type": "markdown",
   "metadata": {},
   "source": [
    "## Alternatively, you can use tr.loop(callback) to customize output\n",
    "## This is the most stable"
   ]
  },
  {
   "cell_type": "markdown",
   "metadata": {},
   "source": []
  },
  {
   "cell_type": "code",
   "execution_count": 22,
   "metadata": {},
   "outputs": [
    {
     "name": "stdout",
     "output_type": "stream",
     "text": [
      "Reading event 8780/8781 99.99%            \n",
      "loop done: 100%                                    \n"
     ]
    }
   ],
   "source": [
    "tr = gm2.Trolley([run])\n",
    "def callback():\n",
    "   return [tr.getFrequency(), tr.getFidLength(), tr.getMultipole()]\n",
    "freq, length, mp = tr.loop(callback)\n"
   ]
  },
  {
   "cell_type": "markdown",
   "metadata": {},
   "source": [
    "### Note that freq now has a shape of (8781, 17, 5). The 5 is for the 5 extraction methods. be careful!"
   ]
  },
  {
   "cell_type": "code",
   "execution_count": 24,
   "metadata": {},
   "outputs": [
    {
     "name": "stdout",
     "output_type": "stream",
     "text": [
      "(8781, 17, 5)\n",
      "(8781, 17)\n",
      "(8781, 9)\n",
      "(8781, 17)\n",
      "[[0.00000000e+00 0.00000000e+00 0.00000000e+00 ... 0.00000000e+00\n",
      "  0.00000000e+00 0.00000000e+00]\n",
      " [2.00842242e-05 5.02105604e-06 5.02105604e-06 ... 5.02105604e-06\n",
      "  5.02105604e-06 5.02105604e-06]\n",
      " [4.21768707e-05 5.02105604e-06 3.16326531e-04 ... 5.02105604e-06\n",
      "  5.02105604e-06 5.02105604e-06]\n",
      " ...\n",
      " [8.57495951e-03 6.74829932e-03 8.17126660e-03 ... 7.14295432e-03\n",
      "  6.71716877e-03 7.71435050e-03]\n",
      " [8.63119534e-03 6.76737933e-03 8.22750243e-03 ... 7.20019436e-03\n",
      "  6.66093294e-03 7.71435050e-03]\n",
      " [8.59403952e-03 6.71013929e-03 8.20842242e-03 ... 7.16203434e-03\n",
      "  6.71716877e-03 7.71535471e-03]]\n"
     ]
    }
   ],
   "source": [
    "print(freq.shape)\n",
    "print(length.shape)\n",
    "print(mp.shape)\n",
    "print(tr_freq.shape)\n",
    "print(length)\n"
   ]
  },
  {
   "cell_type": "markdown",
   "metadata": {},
   "source": [
    "# Next, the fixed probe\n",
    "## It's best to use the loop for the FP\n"
   ]
  },
  {
   "cell_type": "code",
   "execution_count": 28,
   "metadata": {},
   "outputs": [
    {
     "name": "stdout",
     "output_type": "stream",
     "text": [
      "Reading event 2630/2634 99.85%   \n",
      "loop done: 100%                                    \n",
      "(2634, 378)\n",
      "[[0.       0.       0.       ... 0.       0.       0.      ]\n",
      " [0.00021  0.001187 0.001085 ... 0.001091 0.000299 0.000299]\n",
      " [0.000213 0.001196 0.001094 ... 0.001094 0.000297 0.000301]\n",
      " ...\n",
      " [0.000211 0.001184 0.00108  ... 0.001079 0.000297 0.000303]\n",
      " [0.000212 0.001202 0.001089 ... 0.001091 0.000298 0.000299]\n",
      " [0.000209 0.001198 0.00108  ... 0.001084 0.000298 0.000301]]\n"
     ]
    }
   ],
   "source": [
    "run = 3956\n",
    "fp = gm2.FixedProbe([run])\n",
    "def callback():\n",
    "   return [fp.getFidLength(), 0]\n",
    "length,dummy = fp.loop(callback) #need a dummy because callback needs to return a list\n",
    "print(length.shape)\n",
    "print(length)"
   ]
  },
  {
   "cell_type": "markdown",
   "metadata": {},
   "source": [
    "## The non-loop for the fixed probe works just as poorly as it does for the trolley"
   ]
  },
  {
   "cell_type": "code",
   "execution_count": 29,
   "metadata": {},
   "outputs": [
    {
     "name": "stdout",
     "output_type": "stream",
     "text": [
      "[0. 0. 0. 0. 0. 0. 0. 0. 0. 0. 0. 0. 0. 0. 0. 0. 0. 0. 0. 0. 0. 0. 0. 0.\n",
      " 0. 0. 0. 0. 0. 0. 0. 0. 0. 0. 0. 0. 0. 0. 0. 0. 0. 0. 0. 0. 0. 0. 0. 0.\n",
      " 0. 0. 0. 0. 0. 0. 0. 0. 0. 0. 0. 0. 0. 0. 0. 0. 0. 0. 0. 0. 0. 0. 0. 0.\n",
      " 0. 0. 0. 0. 0. 0. 0. 0. 0. 0. 0. 0. 0. 0. 0. 0. 0. 0. 0. 0. 0. 0. 0. 0.\n",
      " 0. 0. 0. 0. 0. 0. 0. 0. 0. 0. 0. 0. 0. 0. 0. 0. 0. 0. 0. 0. 0. 0. 0. 0.\n",
      " 0. 0. 0. 0. 0. 0. 0. 0. 0. 0. 0. 0. 0. 0. 0. 0. 0. 0. 0. 0. 0. 0. 0. 0.\n",
      " 0. 0. 0. 0. 0. 0. 0. 0. 0. 0. 0. 0. 0. 0. 0. 0. 0. 0. 0. 0. 0. 0. 0. 0.\n",
      " 0. 0. 0. 0. 0. 0. 0. 0. 0. 0. 0. 0. 0. 0. 0. 0. 0. 0. 0. 0. 0. 0. 0. 0.\n",
      " 0. 0. 0. 0. 0. 0. 0. 0. 0. 0. 0. 0. 0. 0. 0. 0. 0. 0. 0. 0. 0. 0. 0. 0.\n",
      " 0. 0. 0. 0. 0. 0. 0. 0. 0. 0. 0. 0. 0. 0. 0. 0. 0. 0. 0. 0. 0. 0. 0. 0.\n",
      " 0. 0. 0. 0. 0. 0. 0. 0. 0. 0. 0. 0. 0. 0. 0. 0. 0. 0. 0. 0. 0. 0. 0. 0.\n",
      " 0. 0. 0. 0. 0. 0. 0. 0. 0. 0. 0. 0. 0. 0. 0. 0. 0. 0. 0. 0. 0. 0. 0. 0.\n",
      " 0. 0. 0. 0. 0. 0. 0. 0. 0. 0. 0. 0. 0. 0. 0. 0. 0. 0. 0. 0. 0. 0. 0. 0.\n",
      " 0. 0. 0. 0. 0. 0. 0. 0. 0. 0. 0. 0. 0. 0. 0. 0. 0. 0. 0. 0. 0. 0. 0. 0.\n",
      " 0. 0. 0. 0. 0. 0. 0. 0. 0. 0. 0. 0. 0. 0. 0. 0. 0. 0. 0. 0. 0. 0. 0. 0.\n",
      " 0. 0. 0. 0. 0. 0. 0. 0. 0. 0. 0. 0. 0. 0. 0. 0. 0. 0.]\n"
     ]
    }
   ],
   "source": [
    "run = 3956\n",
    "fp = gm2.FixedProbe([run])\n",
    "print(fp.getFidLength())"
   ]
  },
  {
   "cell_type": "markdown",
   "metadata": {},
   "source": [
    "## This extra step is needed, but it often return nonsense "
   ]
  },
  {
   "cell_type": "code",
   "execution_count": 30,
   "metadata": {},
   "outputs": [
    {
     "name": "stdout",
     "output_type": "stream",
     "text": [
      "(378,)\n",
      "[2.140e-04 1.202e-03 1.084e-03 1.070e-04 6.900e-05 5.800e-05 1.200e-04\n",
      " 3.690e-04 1.253e-03 6.800e-05 1.060e-04 1.510e-04 2.320e-04 6.950e-04\n",
      " 1.045e-03 8.900e-05 3.700e-05 3.000e-05 4.230e-04 4.630e-04 3.200e-04\n",
      " 9.900e-05 7.000e-05 8.800e-05 1.070e-04 4.990e-04 3.610e-04 6.800e-05\n",
      " 5.400e-05 9.400e-05 2.460e-04 8.900e-04 8.430e-04 3.800e-05 6.300e-05\n",
      " 5.600e-05 5.650e-04 4.650e-04 1.095e-03 1.391e-03 1.122e-03 7.740e-04\n",
      " 3.450e-04 1.660e-04 4.660e-04 3.360e-04 1.626e-03 5.460e-04 7.450e-04\n",
      " 5.120e-04 3.330e-04 4.130e-04 5.930e-04 6.910e-04 1.053e-03 3.040e-04\n",
      " 6.680e-04 8.450e-04 1.719e-03 2.200e-04 2.000e-04 5.260e-04 1.325e-03\n",
      " 7.220e-04 5.680e-04 7.850e-04 1.549e-03 6.680e-04 4.200e-04 4.760e-04\n",
      " 3.380e-04 1.500e-04 3.250e-04 2.890e-04 1.570e-04 4.100e-05 8.490e-04\n",
      " 8.190e-04 2.230e-04 7.590e-04 5.680e-04 2.640e-04 1.812e-03 4.000e-04\n",
      " 6.440e-04 9.880e-04 6.550e-04 1.129e-03 4.730e-04 5.930e-04 4.570e-04\n",
      " 2.420e-04 9.940e-04 7.480e-04 6.250e-04 8.400e-04 5.220e-04 8.710e-04\n",
      " 2.530e-04 1.080e-04 7.290e-04 4.490e-04 3.270e-04 3.300e-04 2.780e-04\n",
      " 4.130e-04 1.270e-04 2.970e-04 5.610e-04 1.159e-03 6.810e-04 1.340e-04\n",
      " 2.910e-04 1.720e-04 2.540e-04 8.330e-04 2.040e-04 2.780e-04 6.960e-04\n",
      " 2.160e-04 3.420e-04 2.540e-04 4.550e-04 1.550e-04 8.200e-05 3.680e-04\n",
      " 1.174e-03 7.200e-04 7.930e-04 2.360e-04 7.370e-04 5.240e-04 9.880e-04\n",
      " 5.250e-04 7.570e-04 5.140e-04 1.489e-03 4.680e-04 1.507e-03 8.370e-04\n",
      " 1.478e-03 2.290e-04 2.530e-04 3.140e-04 5.600e-04 1.890e-04 3.360e-04\n",
      " 4.740e-04 1.706e-03 4.600e-04 2.860e-04 8.030e-04 7.600e-04 3.580e-04\n",
      " 7.590e-04 3.350e-04 5.330e-04 4.230e-04 9.100e-04 6.330e-04 5.630e-04\n",
      " 6.950e-04 6.680e-04 1.458e-03 5.550e-04 9.420e-04 8.400e-04 6.880e-04\n",
      " 2.362e-03 1.436e-03 6.350e-04 3.232e-03 1.102e-03 1.110e-04 9.560e-04\n",
      " 1.102e-03 5.870e-04 7.540e-04 1.725e-03 1.082e-03 2.668e-03 5.280e-04\n",
      " 5.700e-05 3.980e-04 3.360e-04 4.010e-04 5.300e-04 4.300e-04 8.770e-04\n",
      " 1.151e-03 1.081e-03 6.400e-04 3.020e-04 2.790e-04 1.870e-04 5.030e-04\n",
      " 1.023e-03 1.720e-04 3.260e-04 9.460e-04 5.490e-04 1.233e-03 2.293e-03\n",
      " 4.200e-04 6.890e-04 2.340e-04 1.253e-03 2.310e-04 6.830e-04 4.520e-04\n",
      " 4.030e-04 6.970e-04 5.880e-04 4.140e-04 8.230e-04 2.940e-04 1.400e-04\n",
      " 4.270e-04 4.230e-04 8.260e-04 6.770e-04 1.820e-04 2.430e-04 3.410e-04\n",
      " 4.560e-04 4.050e-04 2.420e-04 3.550e-04 9.900e-04 1.999e-03 7.100e-04\n",
      " 5.330e-04 9.000e-05 4.910e-04 3.450e-04 5.650e-04 3.000e-04 1.710e-04\n",
      " 1.150e-03 1.391e-03 7.580e-04 1.324e-03 7.140e-04 7.790e-04 8.810e-04\n",
      " 5.580e-04 1.102e-03 9.970e-04 6.080e-04 7.190e-04 4.100e-04 1.026e-03\n",
      " 5.680e-04 8.150e-04 1.268e-03 6.900e-04 3.340e-04 5.000e-05 9.150e-04\n",
      " 7.530e-04 4.340e-04 7.740e-04 3.490e-04 1.360e-03 2.175e-03 5.870e-04\n",
      " 4.570e-04 3.250e-04 5.770e-04 4.040e-04 2.710e-04 5.560e-04 3.630e-04\n",
      " 3.850e-04 8.180e-04 3.930e-04 5.180e-04 6.070e-04 7.450e-04 7.490e-04\n",
      " 6.900e-04 3.240e-04 6.640e-04 5.100e-04 6.950e-04 1.161e-03 6.520e-04\n",
      " 1.220e-03 4.510e-04 4.460e-04 4.100e-04 7.080e-04 1.802e-03 4.650e-04\n",
      " 4.850e-04 4.140e-04 3.770e-04 7.660e-04 1.324e-03 1.314e-03 1.043e-03\n",
      " 8.710e-04 5.950e-04 4.730e-04 8.290e-04 4.320e-04 6.180e-04 6.490e-04\n",
      " 8.760e-04 9.340e-04 1.052e-03 1.298e-03 4.470e-04 5.050e-04 1.220e-03\n",
      " 6.960e-04 7.460e-04 1.157e-03 1.168e-03 1.935e-03 2.720e-03 2.169e-03\n",
      " 1.212e-03 8.400e-04 3.532e-03 1.259e-03 5.960e-04 2.230e-04 4.190e-04\n",
      " 3.390e-04 8.900e-05 7.490e-04 1.080e-04 3.870e-04 3.820e-04 4.180e-04\n",
      " 8.340e-04 8.320e-04 1.817e-03 7.210e-04 2.029e-03 4.110e-04 1.350e-04\n",
      " 2.050e-04 2.810e-04 1.159e-03 3.670e-04 6.510e-04 8.950e-04 6.910e-04\n",
      " 9.540e-04 9.150e-04 5.920e-04 4.700e-04 3.920e-04 9.620e-04 5.160e-04\n",
      " 1.051e-03 5.060e-04 1.013e-03 5.090e-04 1.512e-03 1.346e-03 5.160e-04\n",
      " 8.640e-04 5.390e-04 5.960e-04 3.120e-04 2.730e-04 1.666e-03 5.170e-04\n",
      " 3.390e-04 7.200e-05 9.750e-04 8.150e-04 1.085e-03 2.980e-04 3.020e-04]\n"
     ]
    }
   ],
   "source": [
    "ev = 100\n",
    "fp.load(ev)\n",
    "print((fp.getFidLength()).shape)\n",
    "print(fp.getFidLength())"
   ]
  },
  {
   "cell_type": "markdown",
   "metadata": {},
   "source": []
  },
  {
   "cell_type": "markdown",
   "metadata": {},
   "source": []
  },
  {
   "cell_type": "code",
   "execution_count": null,
   "metadata": {},
   "outputs": [],
   "source": [
    "\n"
   ]
  },
  {
   "cell_type": "code",
   "execution_count": null,
   "metadata": {},
   "outputs": [],
   "source": []
  },
  {
   "cell_type": "code",
   "execution_count": null,
   "metadata": {},
   "outputs": [],
   "source": [
    "\n"
   ]
  },
  {
   "cell_type": "code",
   "execution_count": null,
   "metadata": {},
   "outputs": [],
   "source": []
  },
  {
   "cell_type": "code",
   "execution_count": null,
   "metadata": {},
   "outputs": [],
   "source": []
  },
  {
   "cell_type": "code",
   "execution_count": null,
   "metadata": {},
   "outputs": [],
   "source": []
  },
  {
   "cell_type": "code",
   "execution_count": null,
   "metadata": {},
   "outputs": [],
   "source": []
  }
 ],
 "metadata": {
  "kernelspec": {
   "display_name": "Python 3",
   "language": "python",
   "name": "python3"
  },
  "language_info": {
   "codemirror_mode": {
    "name": "ipython",
    "version": 3
   },
   "file_extension": ".py",
   "mimetype": "text/x-python",
   "name": "python",
   "nbconvert_exporter": "python",
   "pygments_lexer": "ipython3",
   "version": "3.7.3"
  }
 },
 "nbformat": 4,
 "nbformat_minor": 2
}
